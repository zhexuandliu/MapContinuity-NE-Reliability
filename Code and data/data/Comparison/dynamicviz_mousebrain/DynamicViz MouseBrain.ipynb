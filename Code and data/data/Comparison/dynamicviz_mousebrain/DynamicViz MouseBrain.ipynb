{
 "cells": [
  {
   "cell_type": "code",
   "execution_count": 1,
   "metadata": {},
   "outputs": [
    {
     "name": "stderr",
     "output_type": "stream",
     "text": [
      "100%|██████████| 20/20 [01:10<00:00,  3.54s/it]\n"
     ]
    },
    {
     "name": "stdout",
     "output_type": "stream",
     "text": [
      "Setting up neighborhoods...\n",
      "--- 0.27915096282958984 seconds ---\n",
      "Populating distances...\n",
      "--- 1590.7940649986267 seconds ---\n",
      "Computing mean pairwise distance for normalization...\n",
      "--- 173.75093984603882 seconds ---\n",
      "Computing variance scores...\n",
      "--- 334.26989006996155 seconds ---\n"
     ]
    },
    {
     "name": "stderr",
     "output_type": "stream",
     "text": [
      "100%|██████████| 20/20 [01:05<00:00,  3.25s/it]\n"
     ]
    },
    {
     "name": "stdout",
     "output_type": "stream",
     "text": [
      "Setting up neighborhoods...\n",
      "--- 0.2876269817352295 seconds ---\n",
      "Populating distances...\n",
      "--- 1573.42698097229 seconds ---\n",
      "Computing mean pairwise distance for normalization...\n",
      "--- 174.88386487960815 seconds ---\n",
      "Computing variance scores...\n",
      "--- 334.05416917800903 seconds ---\n"
     ]
    },
    {
     "name": "stderr",
     "output_type": "stream",
     "text": [
      "100%|██████████| 20/20 [01:08<00:00,  3.42s/it]\n"
     ]
    },
    {
     "name": "stdout",
     "output_type": "stream",
     "text": [
      "Setting up neighborhoods...\n",
      "--- 0.2565138339996338 seconds ---\n",
      "Populating distances...\n",
      "--- 1574.370218038559 seconds ---\n",
      "Computing mean pairwise distance for normalization...\n",
      "--- 175.11089324951172 seconds ---\n",
      "Computing variance scores...\n",
      "--- 334.95678877830505 seconds ---\n"
     ]
    },
    {
     "name": "stderr",
     "output_type": "stream",
     "text": [
      "100%|██████████| 20/20 [01:11<00:00,  3.55s/it]\n"
     ]
    },
    {
     "name": "stdout",
     "output_type": "stream",
     "text": [
      "Setting up neighborhoods...\n",
      "--- 0.26013898849487305 seconds ---\n",
      "Populating distances...\n",
      "--- 1567.6094398498535 seconds ---\n",
      "Computing mean pairwise distance for normalization...\n",
      "--- 178.34770512580872 seconds ---\n",
      "Computing variance scores...\n",
      "--- 335.76715993881226 seconds ---\n"
     ]
    },
    {
     "name": "stderr",
     "output_type": "stream",
     "text": [
      "100%|██████████| 20/20 [01:18<00:00,  3.94s/it]\n"
     ]
    },
    {
     "name": "stdout",
     "output_type": "stream",
     "text": [
      "Setting up neighborhoods...\n",
      "--- 0.2685239315032959 seconds ---\n",
      "Populating distances...\n",
      "--- 1553.4382119178772 seconds ---\n",
      "Computing mean pairwise distance for normalization...\n",
      "--- 177.18341588974 seconds ---\n",
      "Computing variance scores...\n",
      "--- 334.812539100647 seconds ---\n"
     ]
    },
    {
     "name": "stderr",
     "output_type": "stream",
     "text": [
      "100%|██████████| 20/20 [01:22<00:00,  4.15s/it]\n"
     ]
    },
    {
     "name": "stdout",
     "output_type": "stream",
     "text": [
      "Setting up neighborhoods...\n",
      "--- 0.2881951332092285 seconds ---\n",
      "Populating distances...\n",
      "--- 1572.538696050644 seconds ---\n",
      "Computing mean pairwise distance for normalization...\n",
      "--- 174.55549788475037 seconds ---\n",
      "Computing variance scores...\n",
      "--- 335.4239590167999 seconds ---\n"
     ]
    },
    {
     "name": "stderr",
     "output_type": "stream",
     "text": [
      "100%|██████████| 20/20 [01:21<00:00,  4.09s/it]\n"
     ]
    },
    {
     "name": "stdout",
     "output_type": "stream",
     "text": [
      "Setting up neighborhoods...\n",
      "--- 0.289154052734375 seconds ---\n",
      "Populating distances...\n",
      "--- 1574.4361221790314 seconds ---\n",
      "Computing mean pairwise distance for normalization...\n",
      "--- 173.96467900276184 seconds ---\n",
      "Computing variance scores...\n",
      "--- 334.7901020050049 seconds ---\n"
     ]
    },
    {
     "name": "stderr",
     "output_type": "stream",
     "text": [
      "100%|██████████| 20/20 [01:23<00:00,  4.20s/it]\n"
     ]
    },
    {
     "name": "stdout",
     "output_type": "stream",
     "text": [
      "Setting up neighborhoods...\n",
      "--- 0.2789638042449951 seconds ---\n",
      "Populating distances...\n",
      "--- 1570.2890088558197 seconds ---\n",
      "Computing mean pairwise distance for normalization...\n",
      "--- 173.7103569507599 seconds ---\n",
      "Computing variance scores...\n",
      "--- 334.73187828063965 seconds ---\n"
     ]
    },
    {
     "name": "stderr",
     "output_type": "stream",
     "text": [
      "100%|██████████| 20/20 [01:26<00:00,  4.33s/it]\n"
     ]
    },
    {
     "name": "stdout",
     "output_type": "stream",
     "text": [
      "Setting up neighborhoods...\n",
      "--- 0.2844979763031006 seconds ---\n",
      "Populating distances...\n",
      "--- 1574.8538661003113 seconds ---\n",
      "Computing mean pairwise distance for normalization...\n",
      "--- 176.67986297607422 seconds ---\n",
      "Computing variance scores...\n",
      "--- 334.45577812194824 seconds ---\n"
     ]
    },
    {
     "name": "stderr",
     "output_type": "stream",
     "text": [
      "100%|██████████| 20/20 [01:29<00:00,  4.46s/it]\n"
     ]
    },
    {
     "name": "stdout",
     "output_type": "stream",
     "text": [
      "Setting up neighborhoods...\n",
      "--- 0.27804994583129883 seconds ---\n",
      "Populating distances...\n",
      "--- 1572.5509870052338 seconds ---\n",
      "Computing mean pairwise distance for normalization...\n",
      "--- 173.3260452747345 seconds ---\n",
      "Computing variance scores...\n",
      "--- 334.7266948223114 seconds ---\n"
     ]
    },
    {
     "name": "stderr",
     "output_type": "stream",
     "text": [
      "100%|██████████| 20/20 [01:33<00:00,  4.66s/it]\n"
     ]
    },
    {
     "name": "stdout",
     "output_type": "stream",
     "text": [
      "Setting up neighborhoods...\n",
      "--- 0.28517723083496094 seconds ---\n",
      "Populating distances...\n",
      "--- 1573.4128906726837 seconds ---\n",
      "Computing mean pairwise distance for normalization...\n",
      "--- 173.36578822135925 seconds ---\n",
      "Computing variance scores...\n",
      "--- 334.0745129585266 seconds ---\n"
     ]
    },
    {
     "name": "stderr",
     "output_type": "stream",
     "text": [
      "100%|██████████| 20/20 [01:38<00:00,  4.91s/it]\n"
     ]
    },
    {
     "name": "stdout",
     "output_type": "stream",
     "text": [
      "Setting up neighborhoods...\n",
      "--- 0.280609130859375 seconds ---\n",
      "Populating distances...\n",
      "--- 1573.587201833725 seconds ---\n",
      "Computing mean pairwise distance for normalization...\n",
      "--- 172.98456692695618 seconds ---\n",
      "Computing variance scores...\n",
      "--- 335.6935250759125 seconds ---\n"
     ]
    },
    {
     "name": "stderr",
     "output_type": "stream",
     "text": [
      "100%|██████████| 20/20 [01:41<00:00,  5.06s/it]\n"
     ]
    },
    {
     "name": "stdout",
     "output_type": "stream",
     "text": [
      "Setting up neighborhoods...\n",
      "--- 0.2887387275695801 seconds ---\n",
      "Populating distances...\n",
      "--- 1576.539055109024 seconds ---\n",
      "Computing mean pairwise distance for normalization...\n",
      "--- 174.0947630405426 seconds ---\n",
      "Computing variance scores...\n",
      "--- 334.7998239994049 seconds ---\n"
     ]
    },
    {
     "name": "stderr",
     "output_type": "stream",
     "text": [
      "100%|██████████| 20/20 [01:39<00:00,  4.96s/it]\n"
     ]
    },
    {
     "name": "stdout",
     "output_type": "stream",
     "text": [
      "Setting up neighborhoods...\n",
      "--- 0.2977468967437744 seconds ---\n",
      "Populating distances...\n",
      "--- 1566.5912292003632 seconds ---\n",
      "Computing mean pairwise distance for normalization...\n",
      "--- 175.3271827697754 seconds ---\n",
      "Computing variance scores...\n",
      "--- 336.22942781448364 seconds ---\n"
     ]
    },
    {
     "name": "stderr",
     "output_type": "stream",
     "text": [
      "100%|██████████| 20/20 [01:48<00:00,  5.44s/it]\n"
     ]
    },
    {
     "name": "stdout",
     "output_type": "stream",
     "text": [
      "Setting up neighborhoods...\n",
      "--- 0.27703404426574707 seconds ---\n",
      "Populating distances...\n",
      "--- 1563.599394083023 seconds ---\n",
      "Computing mean pairwise distance for normalization...\n",
      "--- 177.68472695350647 seconds ---\n",
      "Computing variance scores...\n",
      "--- 334.9920530319214 seconds ---\n"
     ]
    },
    {
     "name": "stderr",
     "output_type": "stream",
     "text": [
      "100%|██████████| 20/20 [01:52<00:00,  5.64s/it]\n"
     ]
    },
    {
     "name": "stdout",
     "output_type": "stream",
     "text": [
      "Setting up neighborhoods...\n",
      "--- 0.2899782657623291 seconds ---\n",
      "Populating distances...\n",
      "--- 1563.9452781677246 seconds ---\n",
      "Computing mean pairwise distance for normalization...\n",
      "--- 177.18079471588135 seconds ---\n",
      "Computing variance scores...\n",
      "--- 333.94043493270874 seconds ---\n"
     ]
    },
    {
     "name": "stderr",
     "output_type": "stream",
     "text": [
      "100%|██████████| 20/20 [01:56<00:00,  5.85s/it]\n"
     ]
    },
    {
     "name": "stdout",
     "output_type": "stream",
     "text": [
      "Setting up neighborhoods...\n",
      "--- 0.2792809009552002 seconds ---\n",
      "Populating distances...\n",
      "--- 1561.046131849289 seconds ---\n",
      "Computing mean pairwise distance for normalization...\n",
      "--- 174.19759321212769 seconds ---\n",
      "Computing variance scores...\n",
      "--- 334.912850856781 seconds ---\n"
     ]
    },
    {
     "name": "stderr",
     "output_type": "stream",
     "text": [
      "100%|██████████| 20/20 [02:01<00:00,  6.06s/it]\n"
     ]
    },
    {
     "name": "stdout",
     "output_type": "stream",
     "text": [
      "Setting up neighborhoods...\n",
      "--- 0.2771008014678955 seconds ---\n",
      "Populating distances...\n",
      "--- 1574.4290659427643 seconds ---\n",
      "Computing mean pairwise distance for normalization...\n",
      "--- 175.95283579826355 seconds ---\n",
      "Computing variance scores...\n",
      "--- 335.6883249282837 seconds ---\n"
     ]
    },
    {
     "name": "stderr",
     "output_type": "stream",
     "text": [
      "100%|██████████| 20/20 [01:58<00:00,  5.92s/it]\n"
     ]
    },
    {
     "name": "stdout",
     "output_type": "stream",
     "text": [
      "Setting up neighborhoods...\n",
      "--- 0.295529842376709 seconds ---\n",
      "Populating distances...\n",
      "--- 1589.474261045456 seconds ---\n",
      "Computing mean pairwise distance for normalization...\n",
      "--- 178.80852699279785 seconds ---\n",
      "Computing variance scores...\n",
      "--- 335.72512578964233 seconds ---\n"
     ]
    },
    {
     "name": "stderr",
     "output_type": "stream",
     "text": [
      "100%|██████████| 20/20 [02:05<00:00,  6.29s/it]\n"
     ]
    },
    {
     "name": "stdout",
     "output_type": "stream",
     "text": [
      "Setting up neighborhoods...\n",
      "--- 0.27616095542907715 seconds ---\n",
      "Populating distances...\n",
      "--- 1571.6355888843536 seconds ---\n",
      "Computing mean pairwise distance for normalization...\n",
      "--- 175.3988778591156 seconds ---\n",
      "Computing variance scores...\n",
      "--- 341.0527307987213 seconds ---\n"
     ]
    },
    {
     "name": "stderr",
     "output_type": "stream",
     "text": [
      "100%|██████████| 20/20 [01:52<00:00,  5.62s/it]\n"
     ]
    },
    {
     "name": "stdout",
     "output_type": "stream",
     "text": [
      "Setting up neighborhoods...\n",
      "--- 0.2651240825653076 seconds ---\n",
      "Populating distances...\n",
      "--- 1570.3554179668427 seconds ---\n",
      "Computing mean pairwise distance for normalization...\n",
      "--- 183.24584412574768 seconds ---\n",
      "Computing variance scores...\n",
      "--- 336.70103120803833 seconds ---\n"
     ]
    },
    {
     "name": "stderr",
     "output_type": "stream",
     "text": [
      "100%|██████████| 20/20 [01:53<00:00,  5.68s/it]\n"
     ]
    },
    {
     "name": "stdout",
     "output_type": "stream",
     "text": [
      "Setting up neighborhoods...\n",
      "--- 0.2621498107910156 seconds ---\n",
      "Populating distances...\n",
      "--- 1559.954882144928 seconds ---\n",
      "Computing mean pairwise distance for normalization...\n",
      "--- 204.44065523147583 seconds ---\n",
      "Computing variance scores...\n",
      "--- 384.0368847846985 seconds ---\n"
     ]
    },
    {
     "name": "stderr",
     "output_type": "stream",
     "text": [
      "100%|██████████| 20/20 [02:12<00:00,  6.60s/it]\n"
     ]
    },
    {
     "name": "stdout",
     "output_type": "stream",
     "text": [
      "Setting up neighborhoods...\n",
      "--- 0.2789640426635742 seconds ---\n",
      "Populating distances...\n",
      "--- 1616.147243976593 seconds ---\n",
      "Computing mean pairwise distance for normalization...\n",
      "--- 210.59088611602783 seconds ---\n",
      "Computing variance scores...\n",
      "--- 364.8620672225952 seconds ---\n"
     ]
    },
    {
     "name": "stderr",
     "output_type": "stream",
     "text": [
      "100%|██████████| 20/20 [02:48<00:00,  8.45s/it]\n"
     ]
    },
    {
     "name": "stdout",
     "output_type": "stream",
     "text": [
      "Setting up neighborhoods...\n",
      "--- 0.31035494804382324 seconds ---\n",
      "Populating distances...\n",
      "--- 2334.0235941410065 seconds ---\n",
      "Computing mean pairwise distance for normalization...\n",
      "--- 201.07398009300232 seconds ---\n",
      "Computing variance scores...\n",
      "--- 344.03037905693054 seconds ---\n"
     ]
    },
    {
     "name": "stderr",
     "output_type": "stream",
     "text": [
      "  0%|          | 0/20 [00:00<?, ?it/s]Python(45265) MallocStackLogging: can't turn off malloc stack logging because it was not enabled.\n",
      "Python(45266) MallocStackLogging: can't turn off malloc stack logging because it was not enabled.\n",
      "Python(45267) MallocStackLogging: can't turn off malloc stack logging because it was not enabled.\n",
      "Python(45268) MallocStackLogging: can't turn off malloc stack logging because it was not enabled.\n",
      "100%|██████████| 20/20 [02:48<00:00,  8.42s/it]\n"
     ]
    },
    {
     "name": "stdout",
     "output_type": "stream",
     "text": [
      "Setting up neighborhoods...\n",
      "--- 0.2841317653656006 seconds ---\n",
      "Populating distances...\n",
      "--- 2126.357740879059 seconds ---\n",
      "Computing mean pairwise distance for normalization...\n",
      "--- 250.94830179214478 seconds ---\n",
      "Computing variance scores...\n",
      "--- 396.42942690849304 seconds ---\n"
     ]
    },
    {
     "name": "stderr",
     "output_type": "stream",
     "text": [
      "  0%|          | 0/20 [00:00<?, ?it/s]Python(52641) MallocStackLogging: can't turn off malloc stack logging because it was not enabled.\n",
      "Python(52642) MallocStackLogging: can't turn off malloc stack logging because it was not enabled.\n",
      "Python(52643) MallocStackLogging: can't turn off malloc stack logging because it was not enabled.\n",
      "Python(52644) MallocStackLogging: can't turn off malloc stack logging because it was not enabled.\n",
      "100%|██████████| 20/20 [02:41<00:00,  8.07s/it]\n"
     ]
    },
    {
     "name": "stdout",
     "output_type": "stream",
     "text": [
      "Setting up neighborhoods...\n",
      "--- 0.2871990203857422 seconds ---\n",
      "Populating distances...\n",
      "--- 1589.3148279190063 seconds ---\n",
      "Computing mean pairwise distance for normalization...\n",
      "--- 191.91753816604614 seconds ---\n",
      "Computing variance scores...\n",
      "--- 364.63193702697754 seconds ---\n"
     ]
    },
    {
     "name": "stderr",
     "output_type": "stream",
     "text": [
      "  0%|          | 0/20 [00:00<?, ?it/s]Python(57003) MallocStackLogging: can't turn off malloc stack logging because it was not enabled.\n",
      "Python(57004) MallocStackLogging: can't turn off malloc stack logging because it was not enabled.\n",
      "Python(57005) MallocStackLogging: can't turn off malloc stack logging because it was not enabled.\n",
      "Python(57006) MallocStackLogging: can't turn off malloc stack logging because it was not enabled.\n",
      "100%|██████████| 20/20 [02:43<00:00,  8.18s/it]\n"
     ]
    },
    {
     "name": "stdout",
     "output_type": "stream",
     "text": [
      "Setting up neighborhoods...\n",
      "--- 0.2939441204071045 seconds ---\n",
      "Populating distances...\n",
      "--- 1570.0623579025269 seconds ---\n",
      "Computing mean pairwise distance for normalization...\n",
      "--- 192.00630497932434 seconds ---\n",
      "Computing variance scores...\n",
      "--- 361.5094358921051 seconds ---\n"
     ]
    },
    {
     "name": "stderr",
     "output_type": "stream",
     "text": [
      "  0%|          | 0/20 [00:00<?, ?it/s]Python(60735) MallocStackLogging: can't turn off malloc stack logging because it was not enabled.\n",
      "Python(60736) MallocStackLogging: can't turn off malloc stack logging because it was not enabled.\n",
      "Python(60737) MallocStackLogging: can't turn off malloc stack logging because it was not enabled.\n",
      "Python(60738) MallocStackLogging: can't turn off malloc stack logging because it was not enabled.\n",
      "100%|██████████| 20/20 [02:45<00:00,  8.26s/it]\n"
     ]
    },
    {
     "name": "stdout",
     "output_type": "stream",
     "text": [
      "Setting up neighborhoods...\n",
      "--- 0.2787759304046631 seconds ---\n",
      "Populating distances...\n",
      "--- 1579.2434949874878 seconds ---\n",
      "Computing mean pairwise distance for normalization...\n",
      "--- 180.0201859474182 seconds ---\n",
      "Computing variance scores...\n",
      "--- 335.47804021835327 seconds ---\n"
     ]
    },
    {
     "name": "stderr",
     "output_type": "stream",
     "text": [
      "  0%|          | 0/20 [00:00<?, ?it/s]Python(62256) MallocStackLogging: can't turn off malloc stack logging because it was not enabled.\n",
      "Python(62257) MallocStackLogging: can't turn off malloc stack logging because it was not enabled.\n",
      "Python(62258) MallocStackLogging: can't turn off malloc stack logging because it was not enabled.\n",
      "Python(62259) MallocStackLogging: can't turn off malloc stack logging because it was not enabled.\n",
      "100%|██████████| 20/20 [02:35<00:00,  7.78s/it]\n"
     ]
    },
    {
     "name": "stdout",
     "output_type": "stream",
     "text": [
      "Setting up neighborhoods...\n",
      "--- 0.2817370891571045 seconds ---\n",
      "Populating distances...\n",
      "--- 1544.0489118099213 seconds ---\n",
      "Computing mean pairwise distance for normalization...\n",
      "--- 181.35356783866882 seconds ---\n",
      "Computing variance scores...\n",
      "--- 341.47061419487 seconds ---\n"
     ]
    },
    {
     "name": "stderr",
     "output_type": "stream",
     "text": [
      "  0%|          | 0/20 [00:00<?, ?it/s]Python(62474) MallocStackLogging: can't turn off malloc stack logging because it was not enabled.\n",
      "Python(62475) MallocStackLogging: can't turn off malloc stack logging because it was not enabled.\n",
      "Python(62476) MallocStackLogging: can't turn off malloc stack logging because it was not enabled.\n",
      "Python(62477) MallocStackLogging: can't turn off malloc stack logging because it was not enabled.\n",
      "100%|██████████| 20/20 [02:25<00:00,  7.27s/it]\n"
     ]
    },
    {
     "name": "stdout",
     "output_type": "stream",
     "text": [
      "Setting up neighborhoods...\n",
      "--- 0.2896270751953125 seconds ---\n",
      "Populating distances...\n",
      "--- 1546.3605818748474 seconds ---\n",
      "Computing mean pairwise distance for normalization...\n",
      "--- 180.81693124771118 seconds ---\n",
      "Computing variance scores...\n",
      "--- 332.12047719955444 seconds ---\n"
     ]
    }
   ],
   "source": [
    "import sys\n",
    "import warnings\n",
    "warnings.simplefilter(\"ignore\", category=UserWarning)\n",
    "warnings.simplefilter(\"ignore\", category=FutureWarning)\n",
    "warnings.simplefilter(\"ignore\", category=DeprecationWarning)\n",
    "import numpy as np\n",
    "import pandas as pd\n",
    "import seaborn as sns#; sns.set()\n",
    "import matplotlib.pyplot as plt\n",
    "from scipy.ndimage.filters import gaussian_filter1d\n",
    "from scipy.stats import pearsonr, spearmanr\n",
    "from sklearn.decomposition import PCA\n",
    "\n",
    "from dynamicviz.dynamicviz import boot, score\n",
    "\n",
    "import pacmap\n",
    "#import phate\n",
    "\n",
    "\n",
    "\n",
    "# read in SVZ 1000-cell dataset\n",
    "SVZ_X = np.loadtxt(\"./X_mousebrain.txt\").astype(float)\n",
    "\n",
    "SVZ_Y = pd.DataFrame(np.ones(3618), columns=[\"lab\"])\n",
    "\n",
    "\n",
    "# In[ ]:\n",
    "\n",
    "\n",
    "# run for base methods\n",
    "savebase = \"./mousebrain/dynamicviz_\"\n",
    "nboots = 20 # CHANGE TO 100\n",
    "njobs = 4\n",
    "\n",
    "hyper_dict = {\n",
    "    'tsne': list(range(5,151,5)), # perplexity\n",
    "    'umap': [700,800,900], # n_neighbors [5,10,20,40,80,160,320,640] + [700, 800, 900]\n",
    "    'lle': [20,30,40,50,60,80,100,120,140], # n_neighbors\n",
    "    'mlle': [20,30,40,50,60,80,100,120,140], # n_neighbors\n",
    "    'isomap': [180,220,260,300,340,380,420], # n_neighbors: [20,40,50,60,80,100,120,140] + [180,220,260,300,340,380,420]\n",
    "    'trimap': [2,4,6,8,10,12,14,16,18,20], # n_inliers\n",
    "    'pacmap': [2,6,10,14,18,22,26,30,34,38], # n_neighbors\n",
    "}\n",
    "\n",
    "\n",
    "for method in ['tsne']:#['lle', 'mlle', 'pca', 'isomap', 'trimap', 'pacmap', 'tsne', 'umap', 'mds']:\n",
    "    \n",
    "    try:\n",
    "    \n",
    "        if method == 'pca': # no hyperparameters to optimize\n",
    "            savename = savebase+'B'+str(nboots)+'_'+method\n",
    "            out = boot.generate(SVZ_X, Y=SVZ_Y, method=method, B=nboots, use_n_pcs=False, num_jobs=njobs,\n",
    "                save=savename+\".csv\", random_seed=452)\n",
    "            variance_scores = score.variance(out, method=\"global\", X_orig=SVZ_X, normalize_pairwise_distance=False)\n",
    "            np.savetxt(savename+'_variance.csv', variance_scores)\n",
    "            \n",
    "        elif method == 'mds': # no hyperparameters to optimize\n",
    "            savename = savebase+'B'+str(nboots)+'_'+method\n",
    "            out = boot.generate(SVZ_X, Y=SVZ_Y, method=method, B=nboots, use_n_pcs=50, num_jobs=njobs,\n",
    "                save=savename+\".csv\", random_seed=452)\n",
    "            variance_scores = score.variance(out, method=\"global\", X_orig=SVZ_X, normalize_pairwise_distance=False)\n",
    "            np.savetxt(savename+'_variance.csv', variance_scores)\n",
    "\n",
    "        else: # optimize hyperparameters\n",
    "\n",
    "            for hyper in hyper_dict[method]:\n",
    "\n",
    "                if method == 'trimap':\n",
    "                    method2 = trimap.TRIMAP(n_dims=2, n_inliers=hyper)\n",
    "                    savename = savebase+'B'+str(nboots)+'_trimap_neighbors'+str(hyper)\n",
    "                    out = boot.generate(SVZ_X, Y=SVZ_Y, method=method2, B=nboots, use_n_pcs=50, num_jobs=njobs,\n",
    "                        save=savename+\".csv\", random_seed=452)\n",
    "\n",
    "                elif method == 'pacmap':\n",
    "                    method2 = pacmap.PaCMAP(n_dims=2, n_neighbors=hyper)\n",
    "                    savename = savebase+'B'+str(nboots)+'_pacmap_neighbors'+str(hyper)\n",
    "                    out = boot.generate(SVZ_X, Y=SVZ_Y, method=method2, B=nboots, use_n_pcs=50, num_jobs=njobs,\n",
    "                        save=savename+\".csv\", random_seed=452)\n",
    "\n",
    "                else: # base methods\n",
    "\n",
    "                    if method == 'tsne': # perplexity\n",
    "                        savename = savebase+'B'+str(nboots)+'_tsne_perplexity'+str(hyper)\n",
    "                        out = boot.generate(SVZ_X, Y=SVZ_Y, method=method, B=nboots, use_n_pcs=50, num_jobs=njobs,\n",
    "                            save=savename+\".csv\", random_seed=452, perplexity=hyper)\n",
    "\n",
    "                    else: # n_neighbors\n",
    "                        savename = savebase+'B'+str(nboots)+'_'+method+'_neighbors'+str(hyper)\n",
    "                        out = boot.generate(SVZ_X, Y=SVZ_Y, method=method, B=nboots, use_n_pcs=50, num_jobs=njobs,\n",
    "                            save=savename+\".csv\", random_seed=452, n_neighbors=hyper)\n",
    "\n",
    "                # Generate variance scores and save\n",
    "                variance_scores = score.variance(out, method=\"global\", X_orig=SVZ_X, normalize_pairwise_distance=False)\n",
    "                np.savetxt(savename+'_variance.csv', variance_scores)\n",
    "                \n",
    "    except:\n",
    "        print('Failed on '+method)\n",
    "        continue"
   ]
  },
  {
   "cell_type": "code",
   "execution_count": 4,
   "metadata": {},
   "outputs": [],
   "source": [
    "# plot\n",
    "\n",
    "## import packages\n",
    "import sys\n",
    "\n",
    "import numpy as np\n",
    "import pandas as pd\n",
    "import seaborn as sns#; sns.set()\n",
    "import matplotlib.pyplot as plt\n",
    "from scipy.ndimage.filters import gaussian_filter1d\n",
    "from scipy.stats import pearsonr, spearmanr\n",
    "from sklearn.decomposition import PCA\n",
    "from sklearn.cluster import KMeans, DBSCAN, OPTICS\n",
    "from scipy.stats import wilcoxon\n",
    "\n",
    "import sklearn.manifold as skm\n",
    "\n",
    "import os\n",
    "import shutil"
   ]
  },
  {
   "cell_type": "code",
   "execution_count": 8,
   "metadata": {},
   "outputs": [
    {
     "data": {
      "text/plain": [
       "['dynamicviz_B100_tsne_perplexity13_variance.csv',\n",
       " 'dynamicviz_B100_tsne_perplexity14_variance.csv',\n",
       " 'dynamicviz_B100_tsne_perplexity30_variance.csv',\n",
       " 'dynamicviz_B100_tsne_perplexity37_variance.csv',\n",
       " 'dynamicviz_B100_tsne_perplexity7_variance.csv',\n",
       " 'dynamicviz_B100_tsne_perplexity22_variance.csv',\n",
       " 'dynamicviz_B100_tsne_perplexity25_variance.csv',\n",
       " 'dynamicviz_B100_tsne_perplexity40_variance.csv',\n",
       " 'dynamicviz_B100_tsne_perplexity15_variance.csv',\n",
       " 'dynamicviz_B100_tsne_perplexity12_variance.csv',\n",
       " 'dynamicviz_B100_tsne_perplexity24_variance.csv',\n",
       " 'dynamicviz_B100_tsne_perplexity23_variance.csv',\n",
       " 'dynamicviz_B100_tsne_perplexity36_variance.csv',\n",
       " 'dynamicviz_B100_tsne_perplexity31_variance.csv',\n",
       " 'dynamicviz_B100_tsne_perplexity6_variance.csv',\n",
       " 'dynamicviz_B100_tsne_perplexity29_variance.csv',\n",
       " 'dynamicviz_B100_tsne_perplexity18_variance.csv',\n",
       " 'dynamicviz_B100_tsne_perplexity28_variance.csv',\n",
       " 'dynamicviz_B100_tsne_perplexity19_variance.csv',\n",
       " 'dynamicviz_B100_tsne_perplexity8_variance.csv',\n",
       " 'dynamicviz_B100_tsne_perplexity38_variance.csv',\n",
       " 'dynamicviz_B100_tsne_perplexity9_variance.csv',\n",
       " 'dynamicviz_B100_tsne_perplexity39_variance.csv',\n",
       " 'dynamicviz_B100_tsne_perplexity10_variance.csv',\n",
       " 'dynamicviz_B100_tsne_perplexity17_variance.csv',\n",
       " 'dynamicviz_B100_tsne_perplexity21_variance.csv',\n",
       " 'dynamicviz_B100_tsne_perplexity26_variance.csv',\n",
       " 'dynamicviz_B100_tsne_perplexity4_variance.csv',\n",
       " 'dynamicviz_B100_tsne_perplexity3_variance.csv',\n",
       " 'dynamicviz_B100_tsne_perplexity33_variance.csv',\n",
       " 'dynamicviz_B100_tsne_perplexity34_variance.csv',\n",
       " 'dynamicviz_B100_tsne_perplexity16_variance.csv',\n",
       " 'dynamicviz_B100_tsne_perplexity11_variance.csv',\n",
       " 'dynamicviz_B100_tsne_perplexity2_variance.csv',\n",
       " 'dynamicviz_B100_tsne_perplexity5_variance.csv',\n",
       " 'dynamicviz_B100_tsne_perplexity35_variance.csv',\n",
       " 'dynamicviz_B100_tsne_perplexity32_variance.csv',\n",
       " 'dynamicviz_B100_tsne_perplexity27_variance.csv',\n",
       " 'dynamicviz_B100_tsne_perplexity20_variance.csv']"
      ]
     },
     "execution_count": 8,
     "metadata": {},
     "output_type": "execute_result"
    }
   ],
   "source": [
    "method_filenames"
   ]
  },
  {
   "cell_type": "code",
   "execution_count": 13,
   "metadata": {},
   "outputs": [
    {
     "data": {
      "text/plain": [
       "['', '13']"
      ]
     },
     "execution_count": 13,
     "metadata": {},
     "output_type": "execute_result"
    }
   ],
   "source": [
    "mfn.split('_')[3].split(hyperparam_tag)"
   ]
  },
  {
   "cell_type": "code",
   "execution_count": 6,
   "metadata": {},
   "outputs": [
    {
     "data": {
      "image/png": "[encoded data removed]",
      "text/plain": [
       "<Figure size 640x480 with 1 Axes>"
      ]
     },
     "metadata": {},
     "output_type": "display_data"
    }
   ],
   "source": [
    "# t-SNE\n",
    "dirpath = './mousebrain'\n",
    "best_save_dir = './mousebrain/best_hyperparams'\n",
    "method = 'tsne'\n",
    "hyperparam_tag = 'perplexity'\n",
    "xlabel = \"Perplexity\"\n",
    "xscale = 'normal' # normal or log2\n",
    "\n",
    "#-----------------------------------------------------------------\n",
    "\n",
    "filenames = os.listdir(dirpath)\n",
    "method_filenames = [fn for fn in filenames if \"_\"+method+\"_\" in fn]\n",
    "method_filenames = [mfn for mfn in method_filenames if \"variance\" in mfn]\n",
    "\n",
    "hyperparams = []\n",
    "variances = []\n",
    "hyperparams_single = []\n",
    "medians = []\n",
    "uppers = []\n",
    "lowers = []\n",
    "\n",
    "for mfn in method_filenames:\n",
    "    # parse hyperparameter value\n",
    "    hyperparam = float(mfn.split('_')[3].split(hyperparam_tag)[1])\n",
    "    # read in variance scores and append\n",
    "    vscores = np.genfromtxt(os.path.join(dirpath,mfn))\n",
    "    variances.append(vscores)\n",
    "    hyperparams.append([hyperparam]*len(vscores))\n",
    "    # append other info for plotting\n",
    "    hyperparams_single.append(hyperparam)\n",
    "    medians.append(np.median(vscores))\n",
    "    uppers.append(np.percentile(vscores,97.5))\n",
    "    lowers.append(np.percentile(vscores,2.5))\n",
    "\n",
    "# save a copy of results files of lowest variance score\n",
    "best_idx = medians.index(np.min(medians))\n",
    "mfn = method_filenames[best_idx]\n",
    "shutil.copyfile(os.path.join(dirpath,mfn), os.path.join(best_save_dir,mfn))\n",
    "shutil.copyfile(os.path.join(dirpath,mfn.split('_variance')[0]+'.csv'),\n",
    "                os.path.join(best_save_dir,mfn.split('_variance')[0]+'.csv'))\n",
    "    \n",
    "# process results\n",
    "    \n",
    "hyperparams = np.concatenate(hyperparams)\n",
    "variances = np.concatenate(variances)\n",
    "\n",
    "# sort values\n",
    "medians = [x for _, x in sorted(zip(hyperparams_single, medians))]\n",
    "uppers = [x for _, x in sorted(zip(hyperparams_single, uppers))]\n",
    "lowers = [x for _, x in sorted(zip(hyperparams_single, lowers))]\n",
    "hyperparams_single = list(sorted(hyperparams_single))\n",
    "\n",
    "# Make lineplot\n",
    "if xscale == 'normal':\n",
    "    #sns.lineplot(x=hyperparams, y=variances, ci='sd')\n",
    "    plt.plot(hyperparams_single, medians, 'ko--', linewidth=1.5)\n",
    "    plt.fill_between(hyperparams_single, lowers, uppers, color='0.5', alpha=0.5, interpolate=True)\n",
    "    plt.xlabel(xlabel, fontsize=16)\n",
    "    range_x = np.max(hyperparams_single)-np.min(hyperparams_single)\n",
    "    plt.xlim(np.min(hyperparams_single)-0.01*range_x, np.max(hyperparams_single)+0.01*range_x)\n",
    "else:\n",
    "    #sns.lineplot(x=hyperparams, y=np.log2(variances), ci='sd', palette=['k'])\n",
    "    plt.plot(np.log2(hyperparams_single), medians, 'ko--', linewidth=1.5)\n",
    "    plt.fill_between(np.log2(hyperparams_single), lowers, uppers, color='0.5', alpha=0.5, interpolate=True)\n",
    "    plt.xlabel(\"Log2 \"+xlabel, fontsize=16)\n",
    "    range_x = np.max(np.log2(hyperparams_single))-np.min(np.log2(hyperparams_single))\n",
    "    plt.xlim(np.min(np.log2(hyperparams_single))-0.01*range_x, np.max(np.log2(hyperparams_single))+0.01*range_x)\n",
    "plt.title(method.upper(), fontsize=18)\n",
    "plt.ylabel(\"Variance Score\", fontsize=16)\n",
    "plt.xticks(fontsize=14)\n",
    "plt.yticks(fontsize=14)\n",
    "plt.tight_layout()\n",
    "plt.savefig(\"./mousebrain/\"+method+\"_\"+hyperparam_tag+\"_hyperparameters.png\", dpi=500)\n",
    "plt.show()"
   ]
  }
 ],
 "metadata": {
  "kernelspec": {
   "display_name": "Python 3",
   "language": "python",
   "name": "python3"
  },
  "language_info": {
   "codemirror_mode": {
    "name": "ipython",
    "version": 3
   },
   "file_extension": ".py",
   "mimetype": "text/x-python",
   "name": "python",
   "nbconvert_exporter": "python",
   "pygments_lexer": "ipython3",
   "version": "3.9.6"
  },
  "orig_nbformat": 4,
  "vscode": {
   "interpreter": {
    "hash": "31f2aee4e71d21fbe5cf8b01ff0e069b9275f58929596ceb00d14d90e3e16cd6"
   }
  }
 },
 "nbformat": 4,
 "nbformat_minor": 2
}
